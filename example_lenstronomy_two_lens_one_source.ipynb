{
 "cells": [
  {
   "cell_type": "code",
   "execution_count": 1,
   "id": "7453eac5",
   "metadata": {},
   "outputs": [
    {
     "ename": "ModuleNotFoundError",
     "evalue": "No module named 'lenstronomy'",
     "output_type": "error",
     "traceback": [
      "\u001b[1;31m---------------------------------------------------------------------------\u001b[0m",
      "\u001b[1;31mModuleNotFoundError\u001b[0m                       Traceback (most recent call last)",
      "Cell \u001b[1;32mIn[1], line 2\u001b[0m\n\u001b[0;32m      1\u001b[0m \u001b[38;5;28;01mimport\u001b[39;00m \u001b[38;5;21;01mnumpy\u001b[39;00m \u001b[38;5;28;01mas\u001b[39;00m \u001b[38;5;21;01mnp\u001b[39;00m\n\u001b[1;32m----> 2\u001b[0m \u001b[38;5;28;01mfrom\u001b[39;00m \u001b[38;5;21;01mlenstronomy\u001b[39;00m\u001b[38;5;21;01m.\u001b[39;00m\u001b[38;5;21;01mCosmo\u001b[39;00m\u001b[38;5;21;01m.\u001b[39;00m\u001b[38;5;21;01mlens_cosmo\u001b[39;00m \u001b[38;5;28;01mimport\u001b[39;00m LensCosmo\n\u001b[0;32m      3\u001b[0m \u001b[38;5;124m\"\u001b[39m\u001b[38;5;124mimport comsmology parameter,cite Planck 2015 results XIII. Cosmological parameters,Ade et al.2016\u001b[39m\u001b[38;5;124m\"\u001b[39m\n\u001b[0;32m      4\u001b[0m \u001b[38;5;28;01mfrom\u001b[39;00m \u001b[38;5;21;01mcosmo\u001b[39;00m \u001b[38;5;28;01mimport\u001b[39;00m cosmo\n",
      "\u001b[1;31mModuleNotFoundError\u001b[0m: No module named 'lenstronomy'"
     ]
    }
   ],
   "source": [
    "import numpy as np\n",
    "from lenstronomy.Cosmo.lens_cosmo import LensCosmo\n",
    "\"import comsmology parameter,cite Planck 2015 results XIII. Cosmological parameters,Ade et al.2016\"\n",
    "from cosmo import cosmo\n",
    "\"package to calculate lensed/unlensed luminosity profile\"\n",
    "from bri import SMGbri as bri\n",
    "\"package in lenstronomy to calculate deflection angle in different lens models\"\n",
    "from lenstronomy.LensModel.Profiles.sie import SIE\n",
    "\"package to calculate theta_E in pointmass model\"\n",
    "import pointmass_thetaE\n",
    "\"package in lenstronomy to convert units\"\n",
    "from lenstronomy.Util import param_util\n",
    "\"package to convert mass_200 to sigmav\"\n",
    "import m200tosigmav\n",
    "\"\"\n",
    "import matplotlib.pyplot as plt\n",
    "# from lenstronomy.Cosmo.wudizijian_jiaobsz import LensCosmo2\n",
    "from lenstronomy.LensModel.lens_model import LensModel\n",
    "from lenstronomy.LensModel.Profiles.convergence import Convergence\n",
    "nfw_ellipse = NFW_ELLIPSE()\n",
    "convergence = Convergence()\n",
    "sie = SIE()\n",
    "nie=NIE()\n",
    "pointMass = PointMass()\n",
    "'reduced hubble constant'\n",
    "h=np.array(cosmo.H(0))/100\n",
    "\"typical mass for c in nfw model calculation\"\n",
    "m_star=7609558921754.989\n",
    "'comving_transverse_distance in FLRW metric'\n",
    "tz=cosmo.comoving_transverse_distance"
   ]
  },
  {
   "cell_type": "code",
   "execution_count": 2,
   "id": "a26e79ba",
   "metadata": {},
   "outputs": [],
   "source": [
    "def calmu_sis_lenstro(lenx_list,leny_list,lenz_list,lenm_list,e,phi,soutestz,windows,npix):\n",
    "    'set ray-tracing map size and light/pix number '\n",
    "\n",
    "    sumalpha=0\n",
    "    for i in range(len(lenm_list)):\n",
    "        lens_cosmo = LensCosmo(z_lens=lenz_list[i], z_source=soutestz, cosmo=cosmo)\n",
    "        theta_E = lens_cosmo.sis_sigma_v2theta_E(m200tosigmav.cal(lenm_list[i], lenz_list[i]))\n",
    "        sumalpha = sumalpha + theta_E\n",
    "\n",
    "    xmin = -windows/2\n",
    "    xmax = windows/2\n",
    "\n",
    "    x=np.linspace(xmin,xmax,npix)\n",
    "    len1rayx,len1rayy = np.meshgrid(x,x)\n",
    "\n",
    "    \"convert q and phi to e1 and e2\"\n",
    "    'set the cosmology parameters of lentronomy to calcalate alpha_x and alpha_y'\n",
    "\n",
    "    redshift_list = []\n",
    "    kwargs_lens = []\n",
    "    lens_model_list = []\n",
    "    n = len(lenx_list)\n",
    "    q = 1 - e\n",
    "    e1, e2 = param_util.phi_q2_ellipticity(phi=phi, q=q)\n",
    "    for i in range(n):\n",
    "\n",
    "        lens_cosmo = LensCosmo(z_lens=lenz_list[i], z_source=soutestz, cosmo=cosmo)\n",
    "        theta_E = lens_cosmo.sis_sigma_v2theta_E(m200tosigmav.cal(lenm_list[i], lenz_list[i]))\n",
    "        a = {'theta_E': theta_E, 'e1': e1[i], 'e2': e2[i], 'center_x': lenx_list[i], 'center_y': leny_list[i]}\n",
    "\n",
    "        kwargs_lens.append(a)\n",
    "        lens_model_list.append('SIE')\n",
    "        redshift_list.append(lenz_list[i])\n",
    "\n",
    "    lensModel_mp = LensModel(lens_model_list=lens_model_list, z_source=soutestz, lens_redshift_list=redshift_list,\n",
    "                             multi_plane=True)\n",
    "    len2rayx, len2rayy=lensModel_mp.ray_shooting(x=len1rayx,y=len1rayy,kwargs=kwargs_lens)\n",
    "\n",
    "\n",
    "    return len2rayx, len2rayy\n"
   ]
  },
  {
   "cell_type": "code",
   "execution_count": 3,
   "id": "7bc7f237",
   "metadata": {},
   "outputs": [
    {
     "ename": "NameError",
     "evalue": "name 'time' is not defined",
     "output_type": "error",
     "traceback": [
      "\u001b[1;31m---------------------------------------------------------------------------\u001b[0m",
      "\u001b[1;31mNameError\u001b[0m                                 Traceback (most recent call last)",
      "Cell \u001b[1;32mIn[3], line 4\u001b[0m\n\u001b[0;32m      1\u001b[0m theta_h\u001b[38;5;241m=\u001b[39m\u001b[38;5;241m1\u001b[39m\n\u001b[0;32m      2\u001b[0m n\u001b[38;5;241m=\u001b[39m\u001b[38;5;241m2\u001b[39m\n\u001b[1;32m----> 4\u001b[0m start\u001b[38;5;241m=\u001b[39mtime\u001b[38;5;241m.\u001b[39mtime()\n\u001b[0;32m      5\u001b[0m x,y\u001b[38;5;241m=\u001b[39mcalmu_sis_lenstro(theta_h,lenx_list,leny_list,lenz_list,lenm_list,n,\u001b[38;5;241m1\u001b[39m\u001b[38;5;241m-\u001b[39mq,phi,\u001b[38;5;241m0\u001b[39m,\u001b[38;5;241m0\u001b[39m,\u001b[38;5;241m1\u001b[39m,\u001b[38;5;241m1\u001b[39m,\u001b[38;5;241m1\u001b[39m,\u001b[38;5;28;01mTrue\u001b[39;00m)\n\u001b[0;32m      6\u001b[0m end\u001b[38;5;241m=\u001b[39mtime\u001b[38;5;241m.\u001b[39mtime()\n",
      "\u001b[1;31mNameError\u001b[0m: name 'time' is not defined"
     ]
    }
   ],
   "source": [
    "start=time.time()\n",
    "x,y=calmu_sis_lenstro(lenx_list,leny_list,lenz_list,lenm_list,1-q,phi,1,10,500)\n",
    "end=time.time()\n",
    "print('lenstronomy:',end-start)\n",
    "image_2d_src_plane = sersic_2d(\n",
    "    x=x,\n",
    "    y=y,\n",
    "    xcen=0,\n",
    "    ycen=0,\n",
    "    phi=90,\n",
    "    axis_ratio=0.9,\n",
    "    i_eff=1.0,\n",
    "    r_eff=0.1,\n",
    "    n=1.0\n",
    ")"
   ]
  },
  {
   "cell_type": "code",
   "execution_count": null,
   "id": "7e09ee90",
   "metadata": {},
   "outputs": [],
   "source": [
    "plt.imshow(image_2d_src_plane,cmap='jet', origin='lower')\n",
    "plt.show()"
   ]
  }
 ],
 "metadata": {
  "kernelspec": {
   "display_name": "Python 3 (ipykernel)",
   "language": "python",
   "name": "python3"
  },
  "language_info": {
   "codemirror_mode": {
    "name": "ipython",
    "version": 3
   },
   "file_extension": ".py",
   "mimetype": "text/x-python",
   "name": "python",
   "nbconvert_exporter": "python",
   "pygments_lexer": "ipython3",
   "version": "3.11.4"
  }
 },
 "nbformat": 4,
 "nbformat_minor": 5
}
