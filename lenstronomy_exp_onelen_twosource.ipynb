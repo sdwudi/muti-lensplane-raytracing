{
 "cells": [
  {
   "cell_type": "code",
   "execution_count": 1,
   "id": "0ea81c1d",
   "metadata": {},
   "outputs": [
    {
     "ename": "ModuleNotFoundError",
     "evalue": "No module named 'lenstronomy'",
     "output_type": "error",
     "traceback": [
      "\u001b[1;31m---------------------------------------------------------------------------\u001b[0m",
      "\u001b[1;31mModuleNotFoundError\u001b[0m                       Traceback (most recent call last)",
      "Cell \u001b[1;32mIn[1], line 2\u001b[0m\n\u001b[0;32m      1\u001b[0m \u001b[38;5;28;01mimport\u001b[39;00m \u001b[38;5;21;01mnumpy\u001b[39;00m \u001b[38;5;28;01mas\u001b[39;00m \u001b[38;5;21;01mnp\u001b[39;00m\n\u001b[1;32m----> 2\u001b[0m \u001b[38;5;28;01mfrom\u001b[39;00m \u001b[38;5;21;01mlenstronomy\u001b[39;00m\u001b[38;5;21;01m.\u001b[39;00m\u001b[38;5;21;01mCosmo\u001b[39;00m\u001b[38;5;21;01m.\u001b[39;00m\u001b[38;5;21;01mlens_cosmo\u001b[39;00m \u001b[38;5;28;01mimport\u001b[39;00m LensCosmo\n\u001b[0;32m      3\u001b[0m \u001b[38;5;124m\"\u001b[39m\u001b[38;5;124mimport comsmology parameter,cite Planck 2015 results XIII. Cosmological parameters,Ade et al.2016\u001b[39m\u001b[38;5;124m\"\u001b[39m\n\u001b[0;32m      4\u001b[0m \u001b[38;5;28;01mfrom\u001b[39;00m \u001b[38;5;21;01mastropy\u001b[39;00m\u001b[38;5;21;01m.\u001b[39;00m\u001b[38;5;21;01mcosmology\u001b[39;00m \u001b[38;5;28;01mimport\u001b[39;00m Planck15 \u001b[38;5;28;01mas\u001b[39;00m cosmo\n",
      "\u001b[1;31mModuleNotFoundError\u001b[0m: No module named 'lenstronomy'"
     ]
    }
   ],
   "source": [
    "import numpy as np\n",
    "from lenstronomy.Cosmo.lens_cosmo import LensCosmo\n",
    "\"import comsmology parameter,cite Planck 2015 results XIII. Cosmological parameters,Ade et al.2016\"\n",
    "from astropy.cosmology import Planck15 as cosmo\n",
    "\"package in lenstronomy to calculate deflection angle in different lens models\"\n",
    "from lenstronomy.LensModel.Profiles.sie import SIE\n",
    "\"package in lenstronomy to convert units\"\n",
    "from lenstronomy.Util import param_util\n",
    "\"package to convert mass_200 to sigmav\"\n",
    "import m200tosigmav\n",
    "\"\"\n",
    "import matplotlib.pyplot as plt\n",
    "\n",
    "from lenstronomy.LensModel.lens_model import LensModel\n",
    "from lenstronomy.LensModel.Profiles.convergence import Convergence\n",
    "from lenstronomy.LensModel.Profiles.shear import Shear\n",
    "convergence = Convergence()\n",
    "sie = SIE()\n",
    "shear=Shear()\n",
    "'reduced hubble constant'\n",
    "h=np.array(cosmo.H(0))/100\n"
   ]
  },
  {
   "cell_type": "code",
   "execution_count": 2,
   "id": "c80592d6",
   "metadata": {},
   "outputs": [],
   "source": [
    "def calmu_sis_lenstro(lenx_list,leny_list,lenz_list,lenm_list,e,phi,soutestz,windows,npix,ext_kappa,z_ex_kappa,ext_shear1,ext_shear2,z_ex_shear):\n",
    "    xmin = -windows/2\n",
    "    xmax = windows/2\n",
    "    x=np.linspace(xmin,xmax,npix)\n",
    "    len1rayx,len1rayy = np.meshgrid(x,x)\n",
    "    redshift_list = []\n",
    "    kwargs_lens = []\n",
    "    lens_model_list = []\n",
    "    n = len(lenx_list)\n",
    "    q = 1 - e\n",
    "    e1, e2 = param_util.phi_q2_ellipticity(phi=phi, q=q)\n",
    "    for i in range(n):\n",
    "        lens_cosmo = LensCosmo(z_lens=lenz_list[i], z_source=soutestz, cosmo=cosmo)\n",
    "        theta_E = lens_cosmo.sis_sigma_v2theta_E(m200tosigmav.cal(lenm_list[i], lenz_list[i]))\n",
    "        a = {'theta_E': theta_E, 'e1': e1[i], 'e2': e2[i], 'center_x': lenx_list[i], 'center_y': leny_list[i]}\n",
    "\n",
    "        kwargs_lens.append(a)\n",
    "        lens_model_list.append('SIE')\n",
    "        redshift_list.append(lenz_list[i])\n",
    "    redshift_list.append(z_ex_kappa)\n",
    "    lens_model_list.append('CONVERGENCE')\n",
    "    a = {'kappa':ext_kappa}\n",
    "    kwargs_lens.append(a)\n",
    "    redshift_list.append(z_ex_shear)\n",
    "    lens_model_list.append('SHEAR')\n",
    "    a = {'gamma1': ext_shear1, 'gamma2': ext_shear2}\n",
    "    kwargs_lens.append(a)\n",
    "    lensModel_mp = LensModel(lens_model_list=lens_model_list, z_source=soutestz, lens_redshift_list=redshift_list,\n",
    "                             multi_plane=True)\n",
    "    len2rayx, len2rayy=lensModel_mp.ray_shooting(x=len1rayx,y=len1rayy,kwargs=kwargs_lens)\n",
    "    return len2rayx, len2rayy\n",
    "\n"
   ]
  },
  {
   "cell_type": "code",
   "execution_count": null,
   "id": "12dcc30e",
   "metadata": {},
   "outputs": [],
   "source": [
    "\n",
    "x1,y1=calmu_sis_lenstro(lenx_list,leny_list,lenz_list,lenm_list,1-q,phi,0.4,windows=20,npix=500,ext_kappa=0.01,z_ex_kappa=0.2,ext_shear1=0.01,ext_shear2=0.01,z_ex_shear=0.2)\n",
    "x2,y2=calmu_sis_lenstro(lenx_list,leny_list,lenz_list,lenm_list,1-q,phi,1.0,windows=20,npix=500,ext_kappa=0.01,z_ex_kappa=0.2,ext_shear1=0.01,ext_shear2=0.01,z_ex_shear=0.2)\n",
    "image_2d_src_plane_frist = sersic_2d(\n",
    "    x=x1,\n",
    "    y=y1,\n",
    "    xcen=0,\n",
    "    ycen=0,\n",
    "    phi=0,\n",
    "    axis_ratio=1,\n",
    "    i_eff=1.0,\n",
    "    r_eff=0.1,\n",
    "    n=1.0\n",
    ")\n",
    "image_2d_src_plane_secend = sersic_2d(\n",
    "    x=x2,\n",
    "    y=y2,\n",
    "    xcen=0,\n",
    "    ycen=0,\n",
    "    phi=0,\n",
    "    axis_ratio=1,\n",
    "    i_eff=1.0,\n",
    "    r_eff=0.1,\n",
    "    n=1.0\n",
    ")\n",
    "\n",
    "\n",
    "\n",
    "plt.imshow(image_2d_src_plane_frist+image_2d_src_plane_secend,cmap='jet', origin='lower')\n",
    "\n",
    "\n",
    "plt.show()\n"
   ]
  }
 ],
 "metadata": {
  "kernelspec": {
   "display_name": "Python 3 (ipykernel)",
   "language": "python",
   "name": "python3"
  },
  "language_info": {
   "codemirror_mode": {
    "name": "ipython",
    "version": 3
   },
   "file_extension": ".py",
   "mimetype": "text/x-python",
   "name": "python",
   "nbconvert_exporter": "python",
   "pygments_lexer": "ipython3",
   "version": "3.11.4"
  }
 },
 "nbformat": 4,
 "nbformat_minor": 5
}
